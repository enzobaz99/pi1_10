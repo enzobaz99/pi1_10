{
 "cells": [
  {
   "cell_type": "code",
   "execution_count": 1,
   "metadata": {},
   "outputs": [],
   "source": [
    "import pandas as pd\n",
    "import numpy as np\n",
    "import locale\n",
    "import seaborn as sns\n",
    "import unicodedata as unicodedata\n",
    "sns.set()"
   ]
  },
  {
   "cell_type": "code",
   "execution_count": 2,
   "metadata": {},
   "outputs": [],
   "source": [
    "df = pd.read_csv('df_arreglado.csv')"
   ]
  },
  {
   "cell_type": "code",
   "execution_count": 3,
   "metadata": {},
   "outputs": [
    {
     "name": "stdout",
     "output_type": "stream",
     "text": [
      "<class 'pandas.core.frame.DataFrame'>\n",
      "RangeIndex: 45464 entries, 0 to 45463\n",
      "Data columns (total 24 columns):\n",
      " #   Column             Non-Null Count  Dtype  \n",
      "---  ------             --------------  -----  \n",
      " 0   budget             45376 non-null  float64\n",
      " 1   id                 45376 non-null  float64\n",
      " 2   original_language  45365 non-null  object \n",
      " 3   overview           44435 non-null  object \n",
      " 4   popularity         45376 non-null  float64\n",
      " 5   release_date       45376 non-null  object \n",
      " 6   revenue            45376 non-null  float64\n",
      " 7   runtime            45130 non-null  float64\n",
      " 8   status             45296 non-null  object \n",
      " 9   tagline            20398 non-null  object \n",
      " 10  title              45376 non-null  object \n",
      " 11  vote_average       45376 non-null  float64\n",
      " 12  release_year       45376 non-null  float64\n",
      " 13  return             45376 non-null  float64\n",
      " 14  id_collection      4488 non-null   float64\n",
      " 15  name_collection    4488 non-null   object \n",
      " 16  id_genres          42992 non-null  object \n",
      " 17  name_genres        42992 non-null  object \n",
      " 18  id_production      33580 non-null  object \n",
      " 19  name_production    33580 non-null  object \n",
      " 20  id_countrie        39165 non-null  object \n",
      " 21  name_countrie      39165 non-null  object \n",
      " 22  id_language        41608 non-null  object \n",
      " 23  name_language      41485 non-null  object \n",
      "dtypes: float64(9), object(15)\n",
      "memory usage: 8.3+ MB\n"
     ]
    }
   ],
   "source": [
    "df.info()"
   ]
  },
  {
   "cell_type": "code",
   "execution_count": 4,
   "metadata": {},
   "outputs": [
    {
     "data": {
      "text/plain": [
       "'en_US.UTF-8'"
      ]
     },
     "execution_count": 4,
     "metadata": {},
     "output_type": "execute_result"
    }
   ],
   "source": [
    "def peliculas_mes(mes):\n",
    "    fechas = pd.to_datetime(df['release_date'], format= '%Y-%m-%d')\n",
    "    n_mes= fechas[fechas.dt.month_name(locale = 'es')==mes.capitalize()] # anda en API local pero no en render\n",
    "    respuesta = n_mes.shape[0]\n",
    "    return {'mes':mes, 'cantidad':respuesta}"
   ]
  },
  {
   "cell_type": "code",
   "execution_count": 8,
   "metadata": {},
   "outputs": [
    {
     "data": {
      "text/plain": [
       "'en_US.UTF-8'"
      ]
     },
     "execution_count": 8,
     "metadata": {},
     "output_type": "execute_result"
    }
   ],
   "source": [
    "locale.setlocale(locale.LC_TIME, 'en_US.UTF-8')"
   ]
  },
  {
   "cell_type": "code",
   "execution_count": 5,
   "metadata": {},
   "outputs": [],
   "source": [
    "def peliculas_mes(mes):\n",
    "    fechas = pd.to_datetime(df['release_date'], format= '%Y-%m-%d')\n",
    "    n_mes = fechas[fechas.dt.strftime('%B').str.capitalize() == mes.capitalize()] # se realizo la siguiente transformacion\n",
    "    respuesta = n_mes.shape[0]\n",
    "    return {'mes':mes, 'cantidad':respuesta}"
   ]
  },
  {
   "cell_type": "code",
   "execution_count": 7,
   "metadata": {},
   "outputs": [],
   "source": [
    "def peliculas_mes(mes: str) -> dict:\n",
    "    # Set the locale to Spanish\n",
    "    #locale.setlocale(locale.LC_TIME, 'es_ES.UTF-8')\n",
    "\n",
    "    months_translated= {\n",
    "    'enero': 'January',\n",
    "    'febrero': 'February',\n",
    "    'marzo': 'March',\n",
    "    'abril': 'April',\n",
    "    'mayo': 'May',\n",
    "    'junio': 'June',\n",
    "    'julio': 'July',\n",
    "    'agosto': 'August',\n",
    "    'septiembre': 'September',\n",
    "    'octubre': 'October',\n",
    "    'noviembre': 'November',\n",
    "    'diciembre': 'December'}  \n",
    "    fechas = pd.to_datetime(df['release_date'], format= '%Y-%m-%d')\n",
    "    n_mes = fechas[fechas.dt.strftime('%B').str.capitalize() == months_translated[str(mes).lower()]]\n",
    "    respuesta = n_mes.shape[0]\n",
    "    return {'mes':mes, 'cantidad':respuesta}   # y por ultimo la mejora para que lo lea render"
   ]
  },
  {
   "cell_type": "code",
   "execution_count": 9,
   "metadata": {},
   "outputs": [
    {
     "data": {
      "text/plain": [
       "{'mes': 'enero', 'cantidad': 5912}"
      ]
     },
     "execution_count": 9,
     "metadata": {},
     "output_type": "execute_result"
    }
   ],
   "source": [
    "peliculas_mes('enero')"
   ]
  },
  {
   "cell_type": "code",
   "execution_count": 10,
   "metadata": {},
   "outputs": [],
   "source": [
    "def peliculas_dia(dia):\n",
    "    fechas = pd.to_datetime(df['release_date'], format= '%Y-%m-%d')\n",
    "    n_dia= fechas[fechas.dt.day_name(locale = 'es')==dia.capitalize()] # idem con dias\n",
    "    respuesta = n_dia.shape[0]\n",
    "    return {'dia':dia, 'cantidad':respuesta}"
   ]
  },
  {
   "cell_type": "code",
   "execution_count": 11,
   "metadata": {},
   "outputs": [
    {
     "data": {
      "text/plain": [
       "'en_US.UTF-8'"
      ]
     },
     "execution_count": 11,
     "metadata": {},
     "output_type": "execute_result"
    }
   ],
   "source": [
    "locale.setlocale(locale.LC_TIME, 'en_US.UTF-8')"
   ]
  },
  {
   "cell_type": "code",
   "execution_count": 12,
   "metadata": {},
   "outputs": [],
   "source": [
    "import locale\n",
    "\n",
    "def peliculas_dia(dia):\n",
    "\n",
    "    dias_permitidos = ['lunes', 'martes', 'miércoles', 'jueves', 'viernes', 'sábado', 'domingo']\n",
    "\n",
    "    if dia.lower() not in dias_permitidos:\n",
    "        return {'error': 'El día proporcionado no es válido.'}\n",
    "\n",
    "    locale.setlocale(locale.LC_TIME, 'es_ES.UTF-8')\n",
    "\n",
    "    fechas = pd.to_datetime(df['release_date'], format='%Y-%m-%d')\n",
    "\n",
    "    n_dia = fechas[fechas.dt.day_name(locale='es') == dia.capitalize()]\n",
    "\n",
    "    cantidad = n_dia.shape[0]\n",
    "\n",
    "    return {'dia': dia, 'cantidad': cantidad}"
   ]
  },
  {
   "cell_type": "code",
   "execution_count": 13,
   "metadata": {},
   "outputs": [],
   "source": [
    "def peliculas_dia(dia: str) -> dict:\n",
    "\n",
    "    day_translated= {\n",
    "    'lunes': 'Monday',\n",
    "    'martes': 'Tuesday',\n",
    "    'miercoles': 'Wednesday',\n",
    "    'jueves': 'Thursday',\n",
    "    'viernes': 'Friday',\n",
    "    'sabado': 'Saturday',\n",
    "    'domingo': 'Sunday'}   \n",
    "    fechas = pd.to_datetime(df['release_date'], format= '%Y-%m-%d')\n",
    "    n_dia = fechas[fechas.dt.strftime('%A').str.capitalize() == day_translated[str(dia).lower()]]\n",
    "    respuesta = n_dia.shape[0]\n",
    "    return {'mes':dia, 'cantidad':respuesta} # anda en el render"
   ]
  },
  {
   "cell_type": "code",
   "execution_count": 14,
   "metadata": {},
   "outputs": [
    {
     "data": {
      "text/plain": [
       "{'mes': 'lunes', 'cantidad': 3503}"
      ]
     },
     "execution_count": 14,
     "metadata": {},
     "output_type": "execute_result"
    }
   ],
   "source": [
    "peliculas_dia('lunes')"
   ]
  },
  {
   "cell_type": "code",
   "execution_count": 15,
   "metadata": {},
   "outputs": [],
   "source": [
    "def franquicia(franquicia):\n",
    "    f_bajo= franquicia.lower()\n",
    "    fran= df[['name_collection','budget','revenue',]].dropna(subset=['name_collection'])\n",
    "    fran= fran[fran['name_collection'].map(str.lower).apply(lambda x: f_bajo in x)]\n",
    "    cantidad = fran.shape[0]\n",
    "    gananciat= (fran['revenue']- fran['budget']).sum()\n",
    "    gananciap= (fran['revenue']- fran['budget']).mean()\n",
    "    return {'franquicia': franquicia, 'cantidad': cantidad, 'ganancia_total':gananciat, 'ganancia_promedio': gananciap} # anduvo a la primera"
   ]
  },
  {
   "cell_type": "code",
   "execution_count": 16,
   "metadata": {},
   "outputs": [
    {
     "data": {
      "text/plain": [
       "{'franquicia': 'Toy Story Collection',\n",
       " 'cantidad': 3,\n",
       " 'ganancia_total': 1617890605.0,\n",
       " 'ganancia_promedio': 539296868.3333334}"
      ]
     },
     "execution_count": 16,
     "metadata": {},
     "output_type": "execute_result"
    }
   ],
   "source": [
    "franquicia('Toy Story Collection')"
   ]
  },
  {
   "cell_type": "code",
   "execution_count": 17,
   "metadata": {},
   "outputs": [],
   "source": [
    "def peliculas_pais(pais):\n",
    "    m1 = df[['title', 'name_countrie']]\n",
    "    if isinstance(pais,str):\n",
    "        pais = pais.lower()\n",
    "        pais = unicodedata.normalize('NFKD', pais).encode('ascii', 'ignore').decode('utf-8','ignore')\n",
    "        ganancias = m1['title'][m1['name_countrie'].str.contains(pais)==True]\n",
    "        respuesta = ganancias.shape[0]\n",
    "    return {'pais': pais, 'cantidad': respuesta} # convine este"
   ]
  },
  {
   "cell_type": "code",
   "execution_count": 18,
   "metadata": {},
   "outputs": [],
   "source": [
    "def peliculas_pais(pais: str) -> dict:\n",
    "    if isinstance(pais, str):\n",
    "        pais = pais.lower()\n",
    "        pais = unicodedata.normalize('NFKD', pais).encode('ascii', 'ignore').decode('utf-8','ignore')\n",
    "        cantidad = df['name_countrie'].apply(lambda x: str(x).lower()).map(str.lower).apply(lambda x: pais in x).sum()\n",
    "        return {'pais': pais, 'cantidad': cantidad} # con este"
   ]
  },
  {
   "cell_type": "code",
   "execution_count": 19,
   "metadata": {},
   "outputs": [],
   "source": [
    "def peliculas_pais(pais):\n",
    "    m1 = df[['title', 'name_countrie']]\n",
    "    if isinstance(pais, str):\n",
    "        pais = pais.lower()\n",
    "        pais = unicodedata.normalize('NFKD', pais).encode('ascii', 'ignore').decode('utf-8','ignore')\n",
    "        cantidad = m1['title'][m1['name_countrie'].str.contains(pais)==True]\n",
    "        cantidad = df['name_countrie'].apply(lambda x: str(x).lower()).map(str.lower).apply(lambda x: pais in x)\n",
    "        respuesta = cantidad.shape[0]\n",
    "    return {'pais': pais, 'cantidad': respuesta} # y salio al fin este "
   ]
  },
  {
   "cell_type": "code",
   "execution_count": 20,
   "metadata": {},
   "outputs": [
    {
     "data": {
      "text/plain": [
       "{'pais': 'united states of america', 'cantidad': 45464}"
      ]
     },
     "execution_count": 20,
     "metadata": {},
     "output_type": "execute_result"
    }
   ],
   "source": [
    "peliculas_pais ('United States of America')"
   ]
  },
  {
   "cell_type": "code",
   "execution_count": 21,
   "metadata": {},
   "outputs": [],
   "source": [
    "def productoras(productora):\n",
    "    prod = df[['name_production', 'budget', 'revenue']].dropna()\n",
    "    prod ['name_production'] = prod['name_production'].map(str.lower)\n",
    "    cantidad = prod.shape[0]\n",
    "    gtotal= (prod['revenue'] - prod['budget']).sum()\n",
    "    return {'productora':productora, 'ganancia_total': gtotal, 'cantidad': cantidad } # a la primera anduvo"
   ]
  },
  {
   "cell_type": "code",
   "execution_count": 22,
   "metadata": {},
   "outputs": [
    {
     "data": {
      "text/plain": [
       "{'productora': 'Warner Bros.',\n",
       " 'ganancia_total': 257223845008.0,\n",
       " 'cantidad': 33522}"
      ]
     },
     "execution_count": 22,
     "metadata": {},
     "output_type": "execute_result"
    }
   ],
   "source": [
    "productoras('Warner Bros.')"
   ]
  },
  {
   "cell_type": "code",
   "execution_count": 24,
   "metadata": {},
   "outputs": [],
   "source": [
    "def retorno(pelicula):\n",
    "    peli = df[['title','budget', 'revenue', 'return', 'release_year']].dropna()\n",
    "    peli['title'] = peli['title'].map(str.lower)\n",
    "    peli = peli[peli['title']==str(pelicula).lower()]\n",
    "    inver = peli['budget'].loc[0]\n",
    "    gan = peli['revenue'].loc[0]\n",
    "    ret = peli['return'].loc[0]\n",
    "    an = peli['release_year'].loc[0]\n",
    "    return {'pelicula': pelicula, 'inversion': inver, 'ganancia': gan, 'retorno': ret, 'anio': an } # este no lo leia por lo que se le hizo mejoras"
   ]
  },
  {
   "cell_type": "code",
   "execution_count": 23,
   "metadata": {},
   "outputs": [],
   "source": [
    "def retorno(pelicula: str) -> dict:\n",
    "    pelicula_df = df.loc[df['title'] == pelicula.title()]\n",
    "    inversion = pelicula_df['budget'].iloc[0].item()\n",
    "    ganancia = pelicula_df['revenue'].iloc[0].item()\n",
    "    retorno= pelicula_df['return'].iloc[0].item()\n",
    "    anio = pelicula_df['release_year'].iloc[0].item()\n",
    "    return {'pelicula': pelicula, 'inversion': inversion, 'ganancia': ganancia, 'retorno': retorno, 'anio': anio } # arreglado"
   ]
  },
  {
   "cell_type": "code",
   "execution_count": null,
   "metadata": {},
   "outputs": [],
   "source": []
  }
 ],
 "metadata": {
  "kernelspec": {
   "display_name": "Python 3",
   "language": "python",
   "name": "python3"
  },
  "language_info": {
   "codemirror_mode": {
    "name": "ipython",
    "version": 3
   },
   "file_extension": ".py",
   "mimetype": "text/x-python",
   "name": "python",
   "nbconvert_exporter": "python",
   "pygments_lexer": "ipython3",
   "version": "3.11.3"
  },
  "orig_nbformat": 4
 },
 "nbformat": 4,
 "nbformat_minor": 2
}

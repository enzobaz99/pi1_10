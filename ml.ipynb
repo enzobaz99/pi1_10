{
 "cells": [
  {
   "cell_type": "code",
   "execution_count": 2,
   "metadata": {},
   "outputs": [],
   "source": [
    "import numpy as pd\n",
    "import pandas as pd \n",
    "from sklearn.feature_extraction.text import TfidfVectorizer\n",
    "from sklearn.metrics.pairwise import linear_kernel"
   ]
  },
  {
   "cell_type": "code",
   "execution_count": 3,
   "metadata": {},
   "outputs": [],
   "source": [
    "df = pd.read_csv('df_arreglado.csv')"
   ]
  },
  {
   "cell_type": "code",
   "execution_count": 4,
   "metadata": {},
   "outputs": [],
   "source": [
    "ml=df.sample(n=1000, random_state=42) # limita el ML"
   ]
  },
  {
   "cell_type": "code",
   "execution_count": 5,
   "metadata": {},
   "outputs": [
    {
     "data": {
      "text/plain": [
       "(1000, 10120)"
      ]
     },
     "execution_count": 5,
     "metadata": {},
     "output_type": "execute_result"
    }
   ],
   "source": [
    "tfidf= TfidfVectorizer(stop_words = 'english') # esta  funcion hace que no se detenga el codigo por algun tipo de error\n",
    "ml['overview'] = ml['overview'].fillna('') # este codigo rellena los nullos con espacios vacios\n",
    "tfidf_matrix = tfidf.fit_transform(ml['overview']) # entrena el modelo overwiew\n",
    "cosine_sim = linear_kernel(tfidf_matrix, tfidf_matrix) #defino una función que obtendrá recomendaciones basadas en el título de la película ingresado por el usuario\n",
    "ml.drop_duplicates(inplace=True) # se dropean duplicados\n",
    "ml = ml.reset_index(drop=True) # se resetean los Indices para evitar inconvenientes\n",
    "indices = pd.Series(ml.index, index=ml['title']) # esta variable convierte los títulos de las películas en índices para obtener una respuesta rapida\n",
    "tfidf_matrix.shape # te arroja el resultado"
   ]
  },
  {
   "cell_type": "code",
   "execution_count": 6,
   "metadata": {},
   "outputs": [],
   "source": [
    "def recomendaciones(title, cosine_sim = cosine_sim):\n",
    "    idx = indices[title]\n",
    "    sim_scores = list(enumerate(cosine_sim[idx]))\n",
    "    sim_scores = sorted(sim_scores, key= lambda x: x[1], reverse=True)\n",
    "    sim_scores = sim_scores[1:6]\n",
    "    movie_indices = [i[0] for i in sim_scores]\n",
    "    return ml['title'].iloc[movie_indices] # se hizo este y luego"
   ]
  },
  {
   "cell_type": "code",
   "execution_count": 7,
   "metadata": {},
   "outputs": [],
   "source": [
    "def recomendaciones(title, cosine_sim = cosine_sim):\n",
    "    idx = indices[title]\n",
    "    sim_scores = list(enumerate(cosine_sim[idx]))\n",
    "    sim_scores = sorted(sim_scores, key= lambda x: x[1], reverse=True)\n",
    "    sim_scores = sim_scores[1:6]\n",
    "    movie_indices = [i[0] for i in sim_scores]\n",
    "    recomendaciones=list(ml['title'].iloc[movie_indices]) # se mejoro a este \n",
    "    return {'lista recomendada': recomendaciones}"
   ]
  },
  {
   "cell_type": "code",
   "execution_count": 8,
   "metadata": {},
   "outputs": [
    {
     "data": {
      "text/plain": [
       "0        I Am Belfast\n",
       "1       Office Killer\n",
       "2        Lovely Molly\n",
       "3            Blockade\n",
       "4    Statues Also Die\n",
       "Name: title, dtype: object"
      ]
     },
     "execution_count": 8,
     "metadata": {},
     "output_type": "execute_result"
    }
   ],
   "source": [
    "ml['title'].head()"
   ]
  },
  {
   "cell_type": "code",
   "execution_count": 9,
   "metadata": {},
   "outputs": [
    {
     "data": {
      "text/plain": [
       "{'lista recomendada': ['The Tracker',\n",
       "  'Is Anybody There?',\n",
       "  'Cannibal Girls',\n",
       "  'The Visitor',\n",
       "  'The Anthem of the Heart']}"
      ]
     },
     "execution_count": 9,
     "metadata": {},
     "output_type": "execute_result"
    }
   ],
   "source": [
    "recomendaciones('Gone')"
   ]
  }
 ],
 "metadata": {
  "kernelspec": {
   "display_name": "Python 3",
   "language": "python",
   "name": "python3"
  },
  "language_info": {
   "codemirror_mode": {
    "name": "ipython",
    "version": 3
   },
   "file_extension": ".py",
   "mimetype": "text/x-python",
   "name": "python",
   "nbconvert_exporter": "python",
   "pygments_lexer": "ipython3",
   "version": "3.11.3"
  },
  "orig_nbformat": 4
 },
 "nbformat": 4,
 "nbformat_minor": 2
}
